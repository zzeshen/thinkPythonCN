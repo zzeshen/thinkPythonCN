{
 "cells": [
  {
   "cell_type": "markdown",
   "metadata": {},
   "source": [
    "# 第四章练习\n",
    "\n",
    "Author @zeshen\n",
    "\n",
    "Date: 2020/07/31\n",
    "    \n",
    "---\n",
    "\n",
    "#### 练习1：画一个栈图，表明运行函数circle(bob,radius)时程序的状态，可以收算一下，或者把输出语句加到代码上。\n",
    "\n",
    "原著在内容编排上栈图的位置在第3章也就是函数部分就已经结合实参和形参做了介绍，由于之前的内容尚未出现需要用到它的知识，我们就没有对其进行过多的介绍，下面补充说明一些关于栈图的知识。\n",
    "\n",
    "想象有这么两个函数：\n",
    "\n",
    "```python\n",
    "def cat_twice(part1,part2):\n",
    "    cat = part1 + part2;\n",
    "    print_twice(cat);\n",
    "    \n",
    "def print_twice(bruce):\n",
    "    print(bruce);\n",
    "    print(bruce);\n",
    "```\n",
    "看起来与我们之前写的函数不太一样，对吗？在这个函数中，函数在函数体最后一句对它自身进行了调用，对于这种较为复杂的“套娃”式函数，我们要想追踪一个变量在哪些位置能够使用，就可以画栈图来实现，栈图可以表示出每个变量的值也可以标识出每个变量所属的函数。\n",
    "\n",
    "每一个函数都有一个**框架**表示，框架的边缘要标明函数的名称，框内填写函数内部的**形参**和**变量**。\n",
    "假设调用函数：\n",
    "```python\n",
    "line1= 'Hello ';\n",
    "line2 = 'World.';\n",
    "cat_twice(line1,line2);\n",
    "```\n",
    "那么画出上面函数的栈图如下：\n",
    "\n",
    "<img src=\"../pics/zhantu1.png\" style=\"zoom:30%;\"/>\n",
    "\n",
    "题目所给的函数如下（应用情景参见[chapter4.ipynb](.\\chapter4.ipynb)）：\n",
    "\n",
    "```python\n",
    "import turtle\n",
    "import math\n",
    "\n",
    "def circle(t,length,n):\n",
    "    for i in range(n):\n",
    "        t.fd(length);\n",
    "        t.lt(360 / n);\n",
    "    turtle.done();\n",
    "\n",
    "n = 100; # 精度\n",
    "r = float(input(\"r = \"));\n",
    "angle = 360 / n / 2;\n",
    "length = r * 2 * math.sin(math.radians(angle));\n",
    "bob = turtle.Turtle();\n",
    "circle(bob,length,n);\n",
    "```\n",
    "假设输入的r = 120 pixs，则画出circle的栈图如下：\n"
   ]
  }
 ],
 "metadata": {
  "kernelspec": {
   "display_name": "Python 3",
   "language": "python",
   "name": "python3"
  },
  "language_info": {
   "codemirror_mode": {
    "name": "ipython",
    "version": 3
   },
   "file_extension": ".py",
   "mimetype": "text/x-python",
   "name": "python",
   "nbconvert_exporter": "python",
   "pygments_lexer": "ipython3",
   "version": "3.7.7"
  }
 },
 "nbformat": 4,
 "nbformat_minor": 4
}
