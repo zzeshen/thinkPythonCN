{
 "cells": [
  {
   "cell_type": "markdown",
   "metadata": {},
   "source": [
    "# 第三章练习\n",
    "\n",
    "Author @zeshen\n",
    "\n",
    "Date: 2020/07/28\n",
    "\n",
    "---\n",
    "\n",
    "#### 练习1：写一个名叫right_justify的函数，形式参数是一个名为s的字符串，将字符串打印，前面留出足够的空格，让最后一个字幕在70列显示。"
   ]
  },
  {
   "cell_type": "code",
   "execution_count": 4,
   "metadata": {},
   "outputs": [
    {
     "name": "stdout",
     "output_type": "stream",
     "text": [
      "INPUT:ABCDE\n",
      "                                                                  ABCDE\n"
     ]
    }
   ],
   "source": [
    "def right_justify(s):\n",
    "    print(\" \" * (70 - len(s)),s);\n",
    "    \n",
    "s = input(\"INPUT:\");\n",
    "right_justify(s);"
   ]
  },
  {
   "cell_type": "markdown",
   "metadata": {},
   "source": [
    "上面的程序中调用了一个新函数`len`，它的作用是返回对象的长度、元素个数，它的实参可以是序列（如 string、bytes、tuple、list 或 range 等）或集合（如 dictionary、set 或 frozen set 等）。\n",
    "\n",
    "空格的灵活输出实现可以看上面第二行的代码，通过计算字符串的长度，可以通过嵌套数学公式来实现字符串的灵活输出。\n",
    "\n",
    "#### 练习2：执行下面的脚本，观察把函数对象作为一个值赋给一个变量或作为一个实参传递给其他函数的行为。"
   ]
  },
  {
   "cell_type": "code",
   "execution_count": 5,
   "metadata": {},
   "outputs": [
    {
     "name": "stdout",
     "output_type": "stream",
     "text": [
      "spam\n",
      "spam\n"
     ]
    }
   ],
   "source": [
    "def print_spam():\n",
    "    print(\"spam\");\n",
    "\n",
    "def do_twice(f):\n",
    "    f();\n",
    "    f();\n",
    "    \n",
    "do_twice(print_spam);"
   ]
  },
  {
   "cell_type": "markdown",
   "metadata": {},
   "source": [
    "**下面请修改程序，让它接收2个实际参数，1个是函数对象，一个是值，调用对象函数2次，并赋值给对象函数作为实际参数。**"
   ]
  },
  {
   "cell_type": "code",
   "execution_count": 3,
   "metadata": {},
   "outputs": [
    {
     "name": "stdout",
     "output_type": "stream",
     "text": [
      "INPUT:输出两次！\n",
      "输出两次！\n",
      "输出两次！\n"
     ]
    }
   ],
   "source": [
    "def printSomething(string):\n",
    "    print(string);\n",
    "    \n",
    "def do_twice(f,string):\n",
    "    f(string);\n",
    "    f(string);\n",
    "    \n",
    "do_twice(printSomething,input(\"INPUT:\"));"
   ]
  },
  {
   "cell_type": "markdown",
   "metadata": {},
   "source": [
    "程序思路：\n",
    "do_twice接收两个实际参数，其中一个是函数对象，另一个是值，是input函数的返回值，但值得注意的是，被调用函数对象printSomething由于内部函数语句增加了一个形参，所以需要被改写成有参数的形式，但主体结构保持不变。\n",
    "\n",
    "#### 用修改后的do_twice调用之前的print_twice两次，用字符串“spam”传递过去作为实际参数。"
   ]
  },
  {
   "cell_type": "code",
   "execution_count": 4,
   "metadata": {},
   "outputs": [
    {
     "name": "stdout",
     "output_type": "stream",
     "text": [
      "Spam\n",
      "Spam\n",
      "Spam\n",
      "Spam\n"
     ]
    }
   ],
   "source": [
    "def do_twice(f,string):\n",
    "    f(string);\n",
    "    f(string);\n",
    "    \n",
    "def print_twice(bruce):\n",
    "    print(bruce);\n",
    "    print(bruce);\n",
    "\n",
    "do_twice(print_twice,'Spam');"
   ]
  },
  {
   "cell_type": "markdown",
   "metadata": {},
   "source": [
    "#### 定义一个新的函数，名字叫do_four，使用一个函数对象和一个值作为实际参数，调用对象函数四次，传递这个值过去为对象函数的一个形式参数。\n",
    "\n",
    "***这个函数体内只要有两个语句就够了，而不是四个。***"
   ]
  },
  {
   "cell_type": "code",
   "execution_count": 9,
   "metadata": {},
   "outputs": [
    {
     "name": "stdout",
     "output_type": "stream",
     "text": [
      "Spam\n",
      "Spam\n",
      "Spam\n",
      "Spam\n",
      "Spam\n",
      "Spam\n",
      "Spam\n",
      "Spam\n"
     ]
    }
   ],
   "source": [
    "def do_four(f,string):\n",
    "    do_twice(f,string);\n",
    "    do_twice(f,string);\n",
    "\n",
    "def do_twice(f,string):\n",
    "    f(string);\n",
    "    f(string);\n",
    "    \n",
    "def print_twice(bruce):\n",
    "    print(bruce);\n",
    "    print(bruce);\n",
    "\n",
    "do_four(print_twice,'Spam');"
   ]
  },
  {
   "cell_type": "markdown",
   "metadata": {},
   "source": [
    "单纯套娃而已，在此不做更多解释。\n",
    "\n",
    "#### 练习3：用符号‘+’和‘-’写一个四行四列小网格的程序。"
   ]
  },
  {
   "cell_type": "code",
   "execution_count": 21,
   "metadata": {},
   "outputs": [
    {
     "name": "stdout",
     "output_type": "stream",
     "text": [
      "+-+-+-+-+\n",
      "+-+-+-+-+\n",
      "+-+-+-+-+\n",
      "+-+-+-+-+\n",
      "+-+-+-+-+\n"
     ]
    }
   ],
   "source": [
    "def do_twice(f,string):\n",
    "    f(string);\n",
    "    f(string);\n",
    "    \n",
    "def print_twice(grid):\n",
    "    print(grid*4,end='+\\n');\n",
    "    print(grid*4,end='+\\n');\n",
    "\n",
    "do_twice(print_twice,'+-');\n",
    "print('+-'*4,end='+\\n');"
   ]
  },
  {
   "cell_type": "code",
   "execution_count": null,
   "metadata": {},
   "outputs": [],
   "source": []
  }
 ],
 "metadata": {
  "kernelspec": {
   "display_name": "Python 3",
   "language": "python",
   "name": "python3"
  },
  "language_info": {
   "codemirror_mode": {
    "name": "ipython",
    "version": 3
   },
   "file_extension": ".py",
   "mimetype": "text/x-python",
   "name": "python",
   "nbconvert_exporter": "python",
   "pygments_lexer": "ipython3",
   "version": "3.7.7"
  }
 },
 "nbformat": 4,
 "nbformat_minor": 4
}
