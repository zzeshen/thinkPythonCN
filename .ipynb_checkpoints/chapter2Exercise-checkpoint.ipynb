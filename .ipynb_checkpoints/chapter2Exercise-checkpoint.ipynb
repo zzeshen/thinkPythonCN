{
 "cells": [
  {
   "cell_type": "markdown",
   "metadata": {},
   "source": [
    "\n",
    "# 第二章练习\n",
    "\n",
    "Author @ zeshen\n",
    "\n",
    "Date: 2020/07/28\n",
    "\n",
    "---\n",
    "\n",
    "由于前面的内容过于简单，这里默认您已经配置好了 Python 3.x 的开发环境，跳过了第一、二章的基础内容的讲解，但具体语法特性会在下面的练习讲解中适当体现。\n",
    "\n",
    "本练习基于 Think Python（中文版第二版），适用于 Python 3.x 版本。\n"
   ]
  },
  {
   "cell_type": "markdown",
   "metadata": {},
   "source": [
    "#### 练习1：尝试n=42和42=n的执行效果"
   ]
  },
  {
   "cell_type": "code",
   "execution_count": 1,
   "metadata": {},
   "outputs": [],
   "source": [
    "n = 42"
   ]
  },
  {
   "cell_type": "code",
   "execution_count": 2,
   "metadata": {},
   "outputs": [
    {
     "ename": "SyntaxError",
     "evalue": "can't assign to literal (<ipython-input-2-f0c37ed646fc>, line 1)",
     "output_type": "error",
     "traceback": [
      "\u001b[1;36m  File \u001b[1;32m\"<ipython-input-2-f0c37ed646fc>\"\u001b[1;36m, line \u001b[1;32m1\u001b[0m\n\u001b[1;33m    42 = n\u001b[0m\n\u001b[1;37m          ^\u001b[0m\n\u001b[1;31mSyntaxError\u001b[0m\u001b[1;31m:\u001b[0m can't assign to literal\n"
     ]
    }
   ],
   "source": [
    "42 = n"
   ]
  },
  {
   "cell_type": "markdown",
   "metadata": {},
   "source": [
    "可以看出，当输入‘42 = n’时，解释器出现了报错，意为不能为字面量赋值。\n",
    "\n",
    "Python中一共有三大类量，它们分别是：\n",
    "\n",
    "- 变量：内存中储存数据的命名位置（可以被是为容纳数据的容器索引）；\n",
    "\n",
    "- 常量：常量也是一种变量，但其值无法被修改；\n",
    "\n",
    "- 字面量：字面量是以变量或常量给出的原始数据，包括数值型字面量（47，28）、字符型字面量（\"Hello world!\",'c',u\"\\u00dcinc\\u00f6de\",r\"raw \\n string\"）、布尔型字面量（true, false,1,0）、特殊字面量（None）。\n",
    "\n",
    "其中， 我们使用None来指定未创建的字段:"
   ]
  },
  {
   "cell_type": "code",
   "execution_count": 3,
   "metadata": {},
   "outputs": [
    {
     "name": "stdout",
     "output_type": "stream",
     "text": [
      "available\n",
      "None\n"
     ]
    }
   ],
   "source": [
    "food = None\n",
    "drink = \"available\"\n",
    "        \n",
    "def menu(x):\n",
    "    if x == drink:\n",
    "        print(drink)\n",
    "    else:\n",
    "        print(food)\n",
    "\n",
    "menu(drink)\n",
    "menu(food)"
   ]
  },
  {
   "cell_type": "markdown",
   "metadata": {},
   "source": [
    "另外，上面的u\"/u00dcinc\"表示的是unicode字面量，用于支持英语外的其他字符；r\"raw \\n string\"表示输出原始字符串字面量。\n"
   ]
  },
  {
   "cell_type": "markdown",
   "metadata": {},
   "source": [
    "我们容易知道，问题一中的42是个典型的数值型字面量，字面量不能被赋值，因此Python解释器报错。"
   ]
  },
  {
   "cell_type": "markdown",
   "metadata": {},
   "source": [
    "#### 练习2：形如x = y = 1的连等式输出如何？"
   ]
  },
  {
   "cell_type": "code",
   "execution_count": 4,
   "metadata": {},
   "outputs": [
    {
     "name": "stdout",
     "output_type": "stream",
     "text": [
      "1 1\n"
     ]
    }
   ],
   "source": [
    "x = y = 1\n",
    "print(x,y)"
   ]
  },
  {
   "cell_type": "markdown",
   "metadata": {},
   "source": [
    "第一行为连等赋值，第二行利用print函数成功输出了正确的赋值结果，说明Python内允许进行连等复制。"
   ]
  },
  {
   "cell_type": "markdown",
   "metadata": {},
   "source": [
    "#### 练习3：在Python末尾加分号和句号，对比输出结果？"
   ]
  },
  {
   "cell_type": "code",
   "execution_count": 5,
   "metadata": {},
   "outputs": [
    {
     "ename": "SyntaxError",
     "evalue": "invalid syntax (<ipython-input-5-60b10d819d4b>, line 5)",
     "output_type": "error",
     "traceback": [
      "\u001b[1;36m  File \u001b[1;32m\"<ipython-input-5-60b10d819d4b>\"\u001b[1;36m, line \u001b[1;32m5\u001b[0m\n\u001b[1;33m    z = \"Hello world!\".\u001b[0m\n\u001b[1;37m                       ^\u001b[0m\n\u001b[1;31mSyntaxError\u001b[0m\u001b[1;31m:\u001b[0m invalid syntax\n"
     ]
    }
   ],
   "source": [
    "# 加分号的情况：\n",
    "x = 1;\n",
    "# 加句号的情况：\n",
    "y = 1.\n",
    "z = \"Hello world!\"."
   ]
  },
  {
   "cell_type": "markdown",
   "metadata": {},
   "source": [
    "上面的例子可能不是很明显，推荐使用Python自带的命令行进行重复实验。\n",
    "\n",
    "在Python自带的交互式编辑器中我们可以看到，在语句后加分号（半角字符）有静默输出的效果；而在语句后加句号的情况下，如果赋值的是数值型字面量，Python会首先检查句号前面的值n是否为整数，如果是整数，则默认句号为小数点，我们就得到了一个浮点数n.0；如果前面的不是数值型字面量或前面已经存在了一个小数点，则会出现语法错误。"
   ]
  },
  {
   "cell_type": "markdown",
   "metadata": {},
   "source": [
    "#### 练习4：在Python语句末尾放个单引号会怎样？"
   ]
  },
  {
   "cell_type": "code",
   "execution_count": 6,
   "metadata": {},
   "outputs": [
    {
     "ename": "SyntaxError",
     "evalue": "EOL while scanning string literal (<ipython-input-6-578ae5c9946f>, line 1)",
     "output_type": "error",
     "traceback": [
      "\u001b[1;36m  File \u001b[1;32m\"<ipython-input-6-578ae5c9946f>\"\u001b[1;36m, line \u001b[1;32m1\u001b[0m\n\u001b[1;33m    x = 1'\u001b[0m\n\u001b[1;37m          ^\u001b[0m\n\u001b[1;31mSyntaxError\u001b[0m\u001b[1;31m:\u001b[0m EOL while scanning string literal\n"
     ]
    }
   ],
   "source": [
    "x = 1'"
   ]
  },
  {
   "cell_type": "markdown",
   "metadata": {},
   "source": [
    "结果很明显，除了会报错之外似乎什么也不会发生，这句报错的意思是在搜索字符时出现了行尾（机翻），EOL（end of line）就是行尾的意思。在Python中，单引号总是成对出现的，表示字符型字面量，当Python读取到一个单（双）引号时，会自动继续往后读取，直至读到第二个引号时停止，这两个引号之间的就是被读取的字符型字面量。引号的使用是有层级关系的，这一点我们以后再谈，现在你只需要记住一点，也许其他语言会有用单引号'表示某一语句结束的习惯，但不要把它用再Python上，***Python可以不用结束标识符，也可以用分号实现在交互式编辑器中的静默输出，但绝对不要和别的语言相混淆，切记切记***。"
   ]
  },
  {
   "cell_type": "markdown",
   "metadata": {},
   "source": [
    "#### 练习5：数学中的xy可以表示x和y相乘，Python中可以吗？"
   ]
  },
  {
   "cell_type": "code",
   "execution_count": 7,
   "metadata": {},
   "outputs": [
    {
     "ename": "NameError",
     "evalue": "name 'xy' is not defined",
     "output_type": "error",
     "traceback": [
      "\u001b[1;31m---------------------------------------------------------------------------\u001b[0m",
      "\u001b[1;31mNameError\u001b[0m                                 Traceback (most recent call last)",
      "\u001b[1;32m<ipython-input-7-6584dcab5fa0>\u001b[0m in \u001b[0;36m<module>\u001b[1;34m\u001b[0m\n\u001b[0;32m      1\u001b[0m \u001b[0mx\u001b[0m \u001b[1;33m=\u001b[0m \u001b[1;36m1\u001b[0m\u001b[1;33m;\u001b[0m\u001b[1;33m\u001b[0m\u001b[1;33m\u001b[0m\u001b[0m\n\u001b[0;32m      2\u001b[0m \u001b[0my\u001b[0m \u001b[1;33m=\u001b[0m \u001b[1;36m1\u001b[0m\u001b[1;33m;\u001b[0m\u001b[1;33m\u001b[0m\u001b[1;33m\u001b[0m\u001b[0m\n\u001b[1;32m----> 3\u001b[1;33m \u001b[0mprint\u001b[0m\u001b[1;33m(\u001b[0m\u001b[0mxy\u001b[0m\u001b[1;33m)\u001b[0m\u001b[1;33m;\u001b[0m\u001b[1;33m\u001b[0m\u001b[1;33m\u001b[0m\u001b[0m\n\u001b[0m",
      "\u001b[1;31mNameError\u001b[0m: name 'xy' is not defined"
     ]
    }
   ],
   "source": [
    "x = 1;\n",
    "y = 1;\n",
    "print(xy);"
   ]
  },
  {
   "cell_type": "markdown",
   "metadata": {},
   "source": [
    "你看，这里名称错误，Python中会默认xy为一个新的变量名，而xy自然在前面的语句中从未被定义过，所以会出现\"name 'xy' is not defined\"的报错。Python的强大之处之一就在于它为我们提供了非常详尽的报错提示，通过阅读报错信息，我们可以很轻易地找到代码的问题所在。"
   ]
  },
  {
   "cell_type": "markdown",
   "metadata": {},
   "source": [
    "#### 练习6：计算半径为5的球体体积"
   ]
  },
  {
   "cell_type": "code",
   "execution_count": 8,
   "metadata": {},
   "outputs": [
    {
     "name": "stdout",
     "output_type": "stream",
     "text": [
      "523.6666666666666\n"
     ]
    }
   ],
   "source": [
    "R = 5;\n",
    "PI = 3.142;\n",
    "V = 4 / 3 * PI * R ** 3;\n",
    "print(V);"
   ]
  },
  {
   "cell_type": "markdown",
   "metadata": {},
   "source": [
    "这个例子并不是很难，但需要注意的是Python中没有定义$\\pi$的值，需要自己进行声明和定义。\n",
    "\n",
    "命名变量时，习惯上把对变量使用驼峰命名法，如`onePossiableExample`；命名常量时，习惯用大写表示，如`PI`。\n",
    "\n",
    "Python中的乘方符号是`**`而不是`^`，不要和Matlab中的语法相混淆。"
   ]
  },
  {
   "cell_type": "markdown",
   "metadata": {},
   "source": [
    "#### 练习7：假设一本书的封面标价是24.95美元，书店打6折，第一本运费为3美元，后续每增加一本运费增加75美分，求买60本一共花多少钱。"
   ]
  },
  {
   "cell_type": "code",
   "execution_count": 9,
   "metadata": {},
   "outputs": [
    {
     "name": "stdout",
     "output_type": "stream",
     "text": [
      "1544.25\n"
     ]
    }
   ],
   "source": [
    "PRICE = 24.95;\n",
    "DISCRATE = 0.6;\n",
    "cost = PRICE * 60 + 0.75 * (60 - 1) + 3;\n",
    "print(cost);"
   ]
  },
  {
   "cell_type": "code",
   "execution_count": null,
   "metadata": {},
   "outputs": [],
   "source": []
  }
 ],
 "metadata": {
  "kernelspec": {
   "display_name": "Python 3",
   "language": "python",
   "name": "python3"
  },
  "language_info": {
   "codemirror_mode": {
    "name": "ipython",
    "version": 3
   },
   "file_extension": ".py",
   "mimetype": "text/x-python",
   "name": "python",
   "nbconvert_exporter": "python",
   "pygments_lexer": "ipython3",
   "version": "3.7.7"
  }
 },
 "nbformat": 4,
 "nbformat_minor": 4
}
