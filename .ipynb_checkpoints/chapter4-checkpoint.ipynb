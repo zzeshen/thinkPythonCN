{
 "cells": [
  {
   "cell_type": "markdown",
   "metadata": {},
   "source": [
    "# 第四章：案例学习\n",
    "\n",
    "Author @zeshen\n",
    "\n",
    "Date: 2020/07/28\n",
    "\n",
    "---\n",
    "\n",
    "### turtle模块\n",
    "\n",
    "一般来说本地安装的Python模块应该已经默认安装了turtle模块，但为了保险起见，我们最好在Python解释器中输入以下内容以检查是否安装了turtle模块。"
   ]
  },
  {
   "cell_type": "code",
   "execution_count": null,
   "metadata": {},
   "outputs": [],
   "source": [
    "import turtle\n",
    "window = turtle.Turtle();\n",
    "turtle.done();"
   ]
  },
  {
   "cell_type": "markdown",
   "metadata": {},
   "source": [
    "如果执行后出现了一个图窗，且中心有一个小光标，则说明你的电脑上存在turtle模块；如果出现报错，则没有自带turtle模块，需要在命令行下（必须提前安装[pip工具](https://pypi.org/project/pip/)）以下指令进行手动安装：\n",
    "\n",
    "```\n",
    "pip install turtle\n",
    "```\n",
    "\n",
    "Turtle模块是Python自带的一个绘图模块，图窗中的小箭头就是被当作模块名的那只“turtle”，这个模块通过控制turtle的坐标进行图形的绘制。\n",
    "\n",
    "啊对了，这里就是为了测试以下你的Python有没有内置turtle，现在可以把图窗关掉了。\n",
    "\n",
    "> **注意：**\n",
    ">\n",
    "> 用jupyter notebook运行这段代码时一定要加上`turtle.done()`这段代码！\n",
    ">\n",
    "> 否则可能造成Turtle窗口未响应，强制关闭后会造成jupyter服务器崩溃。\n",
    ">\n",
    "> 只要不是用IDLE来跑turtle的话，在其它图形界面的程序里都需要在最后调用mainloop或done函数。\n",
    "\n",
    "下面通过一个程序了解以下Turtle的一些功能；"
   ]
  },
  {
   "cell_type": "code",
   "execution_count": 1,
   "metadata": {},
   "outputs": [
    {
     "name": "stdout",
     "output_type": "stream",
     "text": [
      "<turtle.Turtle object at 0x000001E5916EC588>\n"
     ]
    }
   ],
   "source": [
    "import turtle\n",
    "bob = turtle.Turtle();\n",
    "print(bob);\n",
    "bob.fd(100);\n",
    "bob.lt(90);\n",
    "bob.fd(100);\n",
    "bob.lt(135);\n",
    "bob.fd(100*(2**0.5));\n",
    "turtle.done();"
   ]
  },
  {
   "cell_type": "markdown",
   "metadata": {},
   "source": [
    "上面的程序其实很好理解，特列出出现的turtle模块函数功能如下表所示：\n",
    "\n",
    "|函数|功能|\n",
    "|:------:|:---------------------:|\n",
    "|fd|让turtle沿其正方向行进arg个像素|\n",
    "|back|让turtle沿其反方向行进arg个像素|\n",
    "|lt|让turtle向左旋转arg度|\n",
    "|rt|让turtle向右旋转arg度|\n",
    "|done|开始事件循环,调用Tkinter的mainloop函数。如果一个脚本是在以-n模式(无子进程)启动的IDLE中运行时不可使用于实现海龟绘图的交互功能|\n",
    "|Turtle|在默认的screen对象下创建画图窗口，等待绘图指令|\n",
    "|mainloop|和done的功能相同。|\n",
    "|pu|turtle的移动轨迹不记录|\n",
    "|pd|记录turtle的移动轨迹|"
   ]
  },
  {
   "cell_type": "markdown",
   "metadata": {},
   "source": [
    "举一反三，我们写一个函数，要求给定边长，画出该边长下的正方形。"
   ]
  },
  {
   "cell_type": "code",
   "execution_count": null,
   "metadata": {},
   "outputs": [],
   "source": [
    "from turtle import *\n",
    "\n",
    "def plt(a):\n",
    "    plot = Turtle();\n",
    "    plot.fd(a);\n",
    "    plot.lt(90);\n",
    "    plot.fd(a);\n",
    "    plot.lt(90);\n",
    "    plot.fd(a);\n",
    "    plot.lt(90);\n",
    "    plot.fd(a);\n",
    "    done();\n",
    "    \n",
    "a = float(input(\"NUMERIC INPUT:\"));\n",
    "plt(a);"
   ]
  },
  {
   "cell_type": "markdown",
   "metadata": {},
   "source": [
    "你看，上面的程序有很多重复的语句，显得代码本身过于冗杂，下面引入循环语句让过程变得更加简洁。"
   ]
  },
  {
   "cell_type": "code",
   "execution_count": 1,
   "metadata": {},
   "outputs": [],
   "source": [
    "import turtle\n",
    "\n",
    "def plt(a):\n",
    "    plot = turtle.Turtle();\n",
    "    for i in range(4):\n",
    "        plot.lt(90);\n",
    "        plot.fd(a);\n",
    "    turtle.done();\n",
    "\n",
    "plt(100);"
   ]
  },
  {
   "cell_type": "markdown",
   "metadata": {},
   "source": [
    "仔细观察上面的程序，你会发现几个有趣的新元素，它们分别是：\n",
    "\n",
    "- 循环语句关键词for：\n",
    "\n",
    "    for循环是Python中较为常见的一种循环，使用格式如下;\n",
    "    \n",
    "    ```\n",
    "    for tempvar in <range>:\n",
    "        ...\n",
    "    ```\n",
    "    其中，<range>是一个序列，tempvar在<range>内进行步进，每读到一个序列中的元素，则执行一次循环体中的语句。  \n",
    "    \n",
    "- range函数：\n",
    "    \n",
    "    range函数的调用规则如下：\n",
    "    ```\n",
    "    range(start, stop, step)\n",
    "    ```\n",
    "    功能是生成一个可确定起始点和步长的序列，但不能直接作为数组或向量进行调用，还需要用list函数进行转换："
   ]
  },
  {
   "cell_type": "code",
   "execution_count": 3,
   "metadata": {},
   "outputs": [
    {
     "name": "stdout",
     "output_type": "stream",
     "text": [
      "[1, 2, 3, 4, 5, 6, 7, 8, 9]\n"
     ]
    }
   ],
   "source": [
    "# 错误的用法\n",
    "# print(range(1,10));\n",
    "# 正确的用法\n",
    "print(list(range(1,10)))"
   ]
  },
  {
   "cell_type": "markdown",
   "metadata": {},
   "source": [
    "下面是几个关于turtle模块的练习，如果有条件的话，建议读者根据题目自行编写代码，然后与下面的代码和code文件夹下的源码进行比较，相信这样会有更好的效果。\n",
    "\n",
    "**1. 写一个名为square的函数，其中有一个名为t的参数，t是一个turtle。用这个t来画一个正方形，写一个函数调用，把bob作为参数传递给square**"
   ]
  },
  {
   "cell_type": "code",
   "execution_count": 2,
   "metadata": {},
   "outputs": [],
   "source": [
    "import turtle\n",
    "\n",
    "def square(t):\n",
    "    for i in range(4):\n",
    "        t.fd(100);\n",
    "        t.lt(90);\n",
    "    turtle.done();\n",
    "\n",
    "bob = turtle.Turtle();\n",
    "square(bob);"
   ]
  },
  {
   "cell_type": "markdown",
   "metadata": {},
   "source": [
    "**2. 给上面的square函数再加一个参数，叫做length，然后修改一下调用函数的代码，再提供一个这个对应长度的参数，尝试用不同的长度值测试你的程序。**"
   ]
  },
  {
   "cell_type": "code",
   "execution_count": 1,
   "metadata": {},
   "outputs": [
    {
     "name": "stdout",
     "output_type": "stream",
     "text": [
      "Length = 200\n"
     ]
    }
   ],
   "source": [
    "import turtle\n",
    "\n",
    "def square(t,length):\n",
    "    for i in range(4):\n",
    "        t.fd(length);\n",
    "        t.lt(90);\n",
    "    turtle.done();\n",
    "\n",
    "length = float(input(\"Length = \"));\n",
    "bob = turtle.Turtle();\n",
    "square(bob,length);"
   ]
  },
  {
   "cell_type": "markdown",
   "metadata": {},
   "source": [
    "**3. 复制一下修改后的square函数，把名字改成polygon，另外添加一个参数叫做n，然后修改函数体，让函数画一个正n边形。**"
   ]
  },
  {
   "cell_type": "code",
   "execution_count": 1,
   "metadata": {},
   "outputs": [
    {
     "name": "stdout",
     "output_type": "stream",
     "text": [
      "Length = 100\n",
      "n <int> = 10\n"
     ]
    }
   ],
   "source": [
    "import turtle\n",
    "\n",
    "def polygon(t,length,n):\n",
    "    for i in range(n):\n",
    "        t.fd(length);\n",
    "        t.lt(360 / n);\n",
    "    turtle.done();\n",
    "    \n",
    "length = float(input(\"Length = \"));\n",
    "n = int(input(\"n <int> = \"));\n",
    "bob = turtle.Turtle();\n",
    "polygon(bob,length,n);"
   ]
  },
  {
   "cell_type": "markdown",
   "metadata": {},
   "source": [
    "**4. 写一个名为circle的函数，也用一个turtle类的对象t以及一个半径r作为参数，画一个近似的圆，通过调用polygon函数近似实现。**"
   ]
  },
  {
   "cell_type": "code",
   "execution_count": 1,
   "metadata": {},
   "outputs": [
    {
     "name": "stdout",
     "output_type": "stream",
     "text": [
      "r = 120\n"
     ]
    }
   ],
   "source": [
    "import turtle\n",
    "import math\n",
    "\n",
    "def circle(t,length,n):\n",
    "    for i in range(n):\n",
    "        t.fd(length);\n",
    "        t.lt(360 / n);\n",
    "    turtle.done();\n",
    "\n",
    "n = 100; # 精度\n",
    "r = float(input(\"r = \"));\n",
    "angle = 360 / n / 2;\n",
    "length = r * 2 * math.sin(math.radians(angle));\n",
    "bob = turtle.Turtle();\n",
    "circle(bob,length,n);"
   ]
  },
  {
   "cell_type": "markdown",
   "metadata": {},
   "source": [
    "**5. 在circle的基础上写一个叫arc的函数，在circle已有的参数基础上添加一个angle变量（角度制），根据这个角度来确定所画圆弧的大小。**"
   ]
  },
  {
   "cell_type": "code",
   "execution_count": 1,
   "metadata": {},
   "outputs": [
    {
     "name": "stdout",
     "output_type": "stream",
     "text": [
      "Angle<degree> = 240\n",
      "r<pixs> = 100\n"
     ]
    }
   ],
   "source": [
    "import turtle\n",
    "import math\n",
    "\n",
    "def arc(t,r,angle):\n",
    "    arcLength = 2 * math.pi * r * (angle / 360);\n",
    "    n = round(arcLength); # 线段个数\n",
    "    stepL = arcLength / n;\n",
    "    stepA = angle / n;\n",
    "    for i in range(n):\n",
    "        t.fd(stepL);\n",
    "        t.lt(stepA);\n",
    "    turtle.done();\n",
    "    \n",
    "a = float(input(\"Angle<degree> = \"));\n",
    "r = float(input(\"r<pixs> = \"));\n",
    "fig = turtle.Turtle();\n",
    "arc(fig,r,a);"
   ]
  },
  {
   "cell_type": "markdown",
   "metadata": {},
   "source": [
    "\n",
    "### 封装，泛化，接口设计与重构\n",
    "\n",
    "这里我们只介绍最浅显易懂的部分。\n",
    "\n",
    "如果你真的有认真完成上面的五个练习，你就会发现这五个练习在编排上似乎存在某种递进的关系，其实这就是我们正常进行编程的基本步骤：\n",
    "\n",
    "- 首先写一个demo，没有函数定义，实现最简化的功能；\n",
    "- 一旦测试成功，确定能够被反复调用的部分，将其**封装**为函数；\n",
    "- 封装后的函数可能 仍然只能实现一小部分功能，我们可以对封装的函数增加参数，进行**泛化**，直至函数基本能够实现预期功能；\n",
    "- **重构**代码，使其能够实现某些其他的功能。\n",
    "\n",
    "请特别注意上面步骤中的粗体字，这些字眼以后会经常出现，下面对这些词汇进行解释：\n",
    "\n",
    "|词汇|释义|\n",
    "|:---:|:---:|\n",
    "|封装|用函数的形式将一段代码包装起来|\n",
    "|泛化|给函数增加参数，使功能更加广泛|\n",
    "|关键参数列表|将形式参数的名字作为标识包含进实参调用中|\n",
    "|接口|关于函数变量、功能、返回值以及结构的总体描述|\n",
    "|重构|改进接口设计，促进代码再利用的处理|\n",
    "|前置条件|函数调用时实际参数的数目和性质必须与函数定义相契合|\n",
    "|后置条件|函数的预期效果和其他作用与计划相契合|\n",
    "\n",
    "一般写代码时可以遵照封装 - 泛化的模式，虽然有一定的缺点，但可以让初学者的你将看似复杂的功能分解，从而大大降低程序实现的难度。\n",
    "\n",
    "### 文档字符串\n",
    "\n",
    "文档字符串一般由三重单引号包围，是注释的一种，且允许在引号内换行。\n",
    "\n",
    "这种注释一般用于说明函数的关键信息，包括参数的类型，赋值单位，函数用途，返回值类型，返回值单位等；文档字符串不宜过于繁杂，关于实现思路等细节问题没有必要在函数的文档字符串中进行说明。"
   ]
  },
  {
   "cell_type": "markdown",
   "metadata": {},
   "source": []
  }
 ],
 "metadata": {
  "kernelspec": {
   "display_name": "Python 3",
   "language": "python",
   "name": "python3"
  },
  "language_info": {
   "codemirror_mode": {
    "name": "ipython",
    "version": 3
   },
   "file_extension": ".py",
   "mimetype": "text/x-python",
   "name": "python",
   "nbconvert_exporter": "python",
   "pygments_lexer": "ipython3",
   "version": "3.7.7"
  }
 },
 "nbformat": 4,
 "nbformat_minor": 4
}
