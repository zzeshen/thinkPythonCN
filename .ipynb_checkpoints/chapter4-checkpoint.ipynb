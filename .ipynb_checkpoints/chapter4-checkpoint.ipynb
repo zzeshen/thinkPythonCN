{
 "cells": [
  {
   "cell_type": "markdown",
   "metadata": {},
   "source": [
    "# 第三章：函数\n",
    "\n",
    "Author @zeshen\n",
    "\n",
    "Date: 2020/07/28\n",
    "\n",
    "---\n",
    "\n",
    "### turtle模块\n",
    "\n",
    "一般来说本地安装的Python模块应该已经默认安装了turtle模块，但为了保险起见，我们最好在Python解释器中输入以下内容以检查是否安装了turtle模块。"
   ]
  },
  {
   "cell_type": "code",
   "execution_count": null,
   "metadata": {},
   "outputs": [],
   "source": [
    "import turtle\n",
    "window = turtle.Turtle();\n",
    "turtle.done();"
   ]
  },
  {
   "cell_type": "markdown",
   "metadata": {},
   "source": [
    "如果执行后出现了一个图窗，且中心有一个小光标，则说明你的电脑上存在turtle模块；如果出现报错，则没有自带turtle模块，需要在命令行下（必须提前安装[pip工具](https://pypi.org/project/pip/)）以下指令进行手动安装：\n",
    "\n",
    "```\n",
    "pip install turtle\n",
    "```\n",
    "\n",
    "Turtle模块是Python自带的一个绘图模块，图窗中的小箭头就是被当作模块名的那只“turtle”，这个模块通过控制turtle的坐标进行图形的绘制。\n",
    "\n",
    "啊对了，这里就是为了测试以下你的Python有没有内置turtle，现在可以把图窗关掉了。\n",
    "\n",
    "> **注意：**\n",
    ">\n",
    "> 用jupyter notebook运行这段代码时一定要加上`turtle.done()`这段代码！\n",
    ">\n",
    "> 否则可能造成Turtle窗口未响应，强制关闭后会造成jupyter服务器崩溃。\n",
    ">\n",
    "> 只要不是用IDLE来跑turtle的话，在其它图形界面的程序里都需要在最后调用mainloop或done函数。\n",
    "\n",
    "下面通过一个程序了解以下Turtle的一些功能；"
   ]
  },
  {
   "cell_type": "code",
   "execution_count": 1,
   "metadata": {},
   "outputs": [
    {
     "name": "stdout",
     "output_type": "stream",
     "text": [
      "<turtle.Turtle object at 0x000001E5916EC588>\n"
     ]
    }
   ],
   "source": [
    "import turtle\n",
    "bob = turtle.Turtle();\n",
    "print(bob);\n",
    "bob.fd(100);\n",
    "bob.lt(90);\n",
    "bob.fd(100);\n",
    "bob.lt(135);\n",
    "bob.fd(100*(2**0.5));\n",
    "turtle.done();"
   ]
  },
  {
   "cell_type": "markdown",
   "metadata": {},
   "source": [
    "上面的程序其实很好理解，特列出出现的turtle模块函数功能如下表所示：\n",
    "\n",
    "|函数|功能|\n",
    "|:------:|:---------------------:|\n",
    "|fd|让turtle沿其正方向行进arg个像素|\n",
    "|back|让turtle沿其反方向行进arg个像素|\n",
    "|lt|让turtle向左旋转arg度|\n",
    "|rt|让turtle向右旋转arg度|\n",
    "|done|开始事件循环,调用Tkinter的mainloop函数。如果一个脚本是在以-n模式(无子进程)启动的IDLE中运行时不可使用于实现海龟绘图的交互功能|\n",
    "|Turtle|在默认的screen对象下创建画图窗口，等待绘图指令|\n",
    "|mainloop|和done的功能相同。|\n",
    "|pu|turtle的移动轨迹不记录|\n",
    "|pd|记录turtle的移动轨迹|"
   ]
  },
  {
   "cell_type": "markdown",
   "metadata": {},
   "source": [
    "举一反三，我们写一个函数，要求给定边长，画出该边长下的正方形。"
   ]
  },
  {
   "cell_type": "code",
   "execution_count": null,
   "metadata": {},
   "outputs": [],
   "source": [
    "from turtle import *\n",
    "\n",
    "def plt(a):\n",
    "    plot = Turtle();\n",
    "    plot.fd(a);\n",
    "    plot.lt(90);\n",
    "    plot.fd(a);\n",
    "    plot.lt(90);\n",
    "    plot.fd(a);\n",
    "    plot.lt(90);\n",
    "    plot.fd(a);\n",
    "    done();\n",
    "    \n",
    "a = float(input(\"NUMERIC INPUT:\"));\n",
    "plt(a);"
   ]
  },
  {
   "cell_type": "markdown",
   "metadata": {},
   "source": [
    "你看，上面的程序有很多重复的语句，显得代码本身过于冗杂，下面引入循环语句让过程变得更加简洁。"
   ]
  },
  {
   "cell_type": "code",
   "execution_count": 1,
   "metadata": {},
   "outputs": [],
   "source": [
    "import turtle\n",
    "\n",
    "def plt(a):\n",
    "    plot = turtle.Turtle();\n",
    "    for i in range(4):\n",
    "        plot.lt(90);\n",
    "        plot.fd(a);\n",
    "    turtle.done();\n",
    "\n",
    "plt(100);"
   ]
  },
  {
   "cell_type": "markdown",
   "metadata": {},
   "source": [
    "仔细观察上面的程序，你会发现几个有趣的新元素，它们分别是：\n",
    "\n",
    "- 循环语句关键词for：\n",
    "\n",
    "    for循环是Python中较为常见的一种循环，使用格式如下;\n",
    "    \n",
    "    ```\n",
    "    for tempvar in <range>:\n",
    "        ...\n",
    "    ```\n",
    "    其中，<range>是一个序列，tempvar在<range>内进行步进，每读到一个序列中的元素，则执行一次循环体中的语句。  \n",
    "    \n",
    "- range函数：\n",
    "    \n",
    "    range函数的调用规则如下：\n",
    "    ```\n",
    "    range(start, stop, step)\n",
    "    ```\n",
    "    功能是生成一个可确定起始点和步长的序列，但不能直接作为数组或向量进行调用，还需要用list函数进行转换："
   ]
  },
  {
   "cell_type": "code",
   "execution_count": 3,
   "metadata": {},
   "outputs": [
    {
     "name": "stdout",
     "output_type": "stream",
     "text": [
      "[1, 2, 3, 4, 5, 6, 7, 8, 9]\n"
     ]
    }
   ],
   "source": [
    "# 错误的用法\n",
    "# print(range(1,10));\n",
    "# 正确的用法\n",
    "print(list(range(1,10)))"
   ]
  },
  {
   "cell_type": "markdown",
   "metadata": {},
   "source": []
  }
 ],
 "metadata": {
  "kernelspec": {
   "display_name": "Python 3",
   "language": "python",
   "name": "python3"
  },
  "language_info": {
   "codemirror_mode": {
    "name": "ipython",
    "version": 3
   },
   "file_extension": ".py",
   "mimetype": "text/x-python",
   "name": "python",
   "nbconvert_exporter": "python",
   "pygments_lexer": "ipython3",
   "version": "3.7.7"
  }
 },
 "nbformat": 4,
 "nbformat_minor": 4
}
