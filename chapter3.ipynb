{
 "cells": [
  {
   "cell_type": "markdown",
   "metadata": {},
   "source": [
    "\n",
    "# 第三章：函数\n",
    "\n",
    "Author @zeshen\n",
    "\n",
    "Date: 2020/07/28\n",
    "\n",
    "---\n",
    "\n",
    "### 3.1 函数的调用"
   ]
  },
  {
   "cell_type": "code",
   "execution_count": 2,
   "metadata": {},
   "outputs": [
    {
     "name": "stdout",
     "output_type": "stream",
     "text": [
      "Hello world!\n"
     ]
    },
    {
     "data": {
      "text/plain": [
       "str"
      ]
     },
     "execution_count": 2,
     "metadata": {},
     "output_type": "execute_result"
    }
   ],
   "source": [
    "# 例1\n",
    "print(\"Hello world!\")\n",
    "# 例2\n",
    "type(\"who am i\")"
   ]
  },
  {
   "cell_type": "markdown",
   "metadata": {},
   "source": [
    "上面的两个例子很典型，例一中的print函数将objects打印到指定的文本流；例二中的type函数返回objects的类型。\n",
    "\n",
    "我们称括号中的元素为‘参数’，一般的函数调用方式为：\n",
    "```\n",
    "var = functionName(arg1, arg2, ...);\n",
    "```\n",
    "其中，var是函数返回值（若有）的赋值变量名，functionName为调用函数的名称，argn为第n个参数，一个函数可以由不定个参数进行参数传递（部分函数不需要外部传递参数）。\n",
    "\n",
    "下面介绍几个常用的函数：\n",
    "\n",
    "|函数名|功能|\n",
    "|:------:|:-----:|\n",
    "|type|返回objects的类型|\n",
    "|print|将objects打印到指定的文本流|\n",
    "|int|**忽略小数点后的数**，将浮点数转换为整型|\n",
    "|float|将**整型和字符串**转化为浮点数|\n",
    "|str|将参数转化为字符串|\n",
    "\n",
    "要注意的是，每个函数允许输入的参数类型和数量是固定的，明白各种数据类型和传递参数的类型在接触类似numpy，pandas这样的科学计算包后变得有为重要，这一点我们会在以后的章节继续探讨。\n",
    "\n",
    "### 3.2 数学函数\n",
    "\n",
    "Python内置了一个数学模块，便于我们利用Python进行数学计算：\n",
    "下面引入这个模块："
   ]
  },
  {
   "cell_type": "code",
   "execution_count": 3,
   "metadata": {},
   "outputs": [],
   "source": [
    "import math"
   ]
  },
  {
   "cell_type": "markdown",
   "metadata": {},
   "source": [
    "这个语句建立了一个**模块对象**，如果想得到相关信息，只需在交互式编辑器中输入："
   ]
  },
  {
   "cell_type": "code",
   "execution_count": 4,
   "metadata": {},
   "outputs": [
    {
     "data": {
      "text/plain": [
       "<module 'math' (built-in)>"
      ]
     },
     "execution_count": 4,
     "metadata": {},
     "output_type": "execute_result"
    }
   ],
   "source": [
    "math"
   ]
  },
  {
   "cell_type": "markdown",
   "metadata": {},
   "source": [
    "可以看出，math模块是Python的内置模块，但出于提高运行效率的考虑，Python运行时并不会自动加载math模块，需要我们手动加载，想调用math包中难过的函数也很简单，下面是一个简单的例子："
   ]
  },
  {
   "cell_type": "code",
   "execution_count": 8,
   "metadata": {},
   "outputs": [
    {
     "name": "stdout",
     "output_type": "stream",
     "text": [
      "1.0\n"
     ]
    }
   ],
   "source": [
    "x = 90;\n",
    "sin90 = math.sin(math.radians(x));\n",
    "print(sin90);"
   ]
  },
  {
   "cell_type": "code",
   "execution_count": 10,
   "metadata": {},
   "outputs": [
    {
     "ename": "NameError",
     "evalue": "name 'sin' is not defined",
     "output_type": "error",
     "traceback": [
      "\u001b[1;31m---------------------------------------------------------------------------\u001b[0m",
      "\u001b[1;31mNameError\u001b[0m                                 Traceback (most recent call last)",
      "\u001b[1;32m<ipython-input-10-c19173e349da>\u001b[0m in \u001b[0;36m<module>\u001b[1;34m\u001b[0m\n\u001b[0;32m      1\u001b[0m \u001b[0my\u001b[0m \u001b[1;33m=\u001b[0m \u001b[1;36m30\u001b[0m\u001b[1;33m;\u001b[0m\u001b[1;33m\u001b[0m\u001b[1;33m\u001b[0m\u001b[0m\n\u001b[1;32m----> 2\u001b[1;33m \u001b[0msin30\u001b[0m \u001b[1;33m=\u001b[0m \u001b[0msin\u001b[0m\u001b[1;33m(\u001b[0m\u001b[0mradians\u001b[0m\u001b[1;33m(\u001b[0m\u001b[0mx\u001b[0m\u001b[1;33m)\u001b[0m\u001b[1;33m)\u001b[0m\u001b[1;33m;\u001b[0m\u001b[1;33m\u001b[0m\u001b[1;33m\u001b[0m\u001b[0m\n\u001b[0m\u001b[0;32m      3\u001b[0m \u001b[0mprint\u001b[0m\u001b[1;33m(\u001b[0m\u001b[0msin30\u001b[0m\u001b[1;33m)\u001b[0m\u001b[1;33m;\u001b[0m\u001b[1;33m\u001b[0m\u001b[1;33m\u001b[0m\u001b[0m\n",
      "\u001b[1;31mNameError\u001b[0m: name 'sin' is not defined"
     ]
    }
   ],
   "source": [
    "y = 30;\n",
    "sin30 = sin(radians(x));\n",
    "print(sin30);"
   ]
  },
  {
   "cell_type": "markdown",
   "metadata": {},
   "source": [
    "认真观察上面的示例程序，你会发现以下几个值得注意的地方：\n",
    "\n",
    "1. 要想引用math包中的函数，必须在函数名前声明外部函数所属的Python，即将引入的模块名称当作一个对象，调用这个模块对象下的方法，这时才能实现调用，否则将报错“xx函数未定义”；\n",
    "2. math包中的返回值一般是浮点数；\n",
    "3. Python中**允许函数嵌套**，意味着更加方便的函数调用和更加高效的编程体验。\n",
    "\n",
    "当然，如果你实在不希望在函数名前加上那么长的一串包名，你也可以使用下面的引入方法："
   ]
  },
  {
   "cell_type": "code",
   "execution_count": 14,
   "metadata": {},
   "outputs": [
    {
     "name": "stdout",
     "output_type": "stream",
     "text": [
      "0.9999999999999999\n"
     ]
    }
   ],
   "source": [
    "from math import *\n",
    "print(tan(radians(45)))"
   ]
  },
  {
   "cell_type": "markdown",
   "metadata": {},
   "source": [
    "```\n",
    "from <pkgName> import <function>\n",
    "```\n",
    "这样的调用方法是指从<pkgName>包中调用<function>函数，<function>可以是一个或多个，引入多个函数时要用逗号分隔，如果希望引入该包内的全部函数，可以使用通配符`*`表示引入全部函数。\n",
    "\n",
    "这样引入的函数可以直接调用而不需要将包名多为对象调用。\n",
    "    \n",
    " > 注意：\n",
    " >   **出于提高Python程序运行效率的考虑，不建议引入全部函数。**\n",
    "    \n",
    " 还记得上一章我们定义的PI值吗？有了math包，现在我们可以直接调用math中定义的精确$\\pi$值了："
   ]
  },
  {
   "cell_type": "code",
   "execution_count": 15,
   "metadata": {},
   "outputs": [
    {
     "name": "stdout",
     "output_type": "stream",
     "text": [
      "3.141592653589793\n",
      "3.141592653589793\n"
     ]
    }
   ],
   "source": [
    "print(math.pi);  # import的情况\n",
    "print(pi);  # from ... import的情况"
   ]
  },
  {
   "cell_type": "markdown",
   "metadata": {},
   "source": [
    "### 3.3 自定义函数\n",
    "\n",
    "为了代码的可复用性、功能性和结构工整，Python中也允许我们自己定义函数。一般来说，定义一个函数通常需要指定函数名，传递参数和函数语句，具体格式如下：\n",
    "\n",
    "```\n",
    "def functionName(arg1, arg2, ...):\n",
    "    ...\n",
    "```\n",
    "这里的`def`是一个关键词，表示在这里定义一个函数，函数命名和变量名差不多，作者更推荐驼峰命名法，如果函数名后面的括号是空的，说明函数本身不需要传递参数。函数的第一行叫做头部，剩下的部分叫做函数体，要注意**函数头部结束后有一个冒号**，**函数体是存在缩进的**，这里建议大家使用Tab键而不是Space键进行缩进这会大大减小因缩进问题而出现的报错几率。\n",
    "\n",
    "> Tips:\n",
    ">\n",
    "> Python是一门很优雅的、严格缩进的语言，缩进是Python划分代码层级（特别是function，循环，判断语句）的唯一依据，请读者务必注意这一点。\n",
    "\n",
    "下面是一个自定义函数定义与调用的例子："
   ]
  },
  {
   "cell_type": "code",
   "execution_count": 32,
   "metadata": {},
   "outputs": [
    {
     "name": "stdout",
     "output_type": "stream",
     "text": [
      "<degree> x = 30\n",
      "y =  0.49999999999999994\n"
     ]
    }
   ],
   "source": [
    "import math\n",
    "\n",
    "def sinclaculator():\n",
    "    x = float(input(\"<degree> x = \"));\n",
    "    y = math.sin(math.radians(x));\n",
    "    return y;\n",
    "\n",
    "print(\"y = \",sinclaculator());"
   ]
  },
  {
   "cell_type": "markdown",
   "metadata": {},
   "source": [
    "上面的程序中我们引入了math包，实现了输入一个弧度制数，返回这个弧度的正弦值的功能。\n",
    "\n",
    "`return`语句表示返回参数，这一点上接触过C语言的朋友可能会感觉比较熟悉，但需要和Matlab中释放控制权返回上一级结构的功能相区分。\n",
    "\n",
    "自定义函数也支持函数的嵌套使用。\n",
    "\n",
    "input函数会默认将输入的值作为**字符型字面量**存储在给定的变量名中，如果想使用类似math包中的函数进行数学运算，请**务必将其转化为浮点数**后再进行操作。\n",
    "\n",
    "和C语言不同，Python的print函数不需要占位符。\n",
    "\n",
    "定义函数的过程中也可以嵌套自定义函数，在编辑脚本时，可以把自定义函数写成独立的.py文件放在与主程序相同的根目录下，可以很方便的调用自定义函数。"
   ]
  },
  {
   "cell_type": "code",
   "execution_count": 34,
   "metadata": {},
   "outputs": [
    {
     "name": "stdout",
     "output_type": "stream",
     "text": [
      "Input:\n",
      "hello python\n",
      "hello python\n"
     ]
    }
   ],
   "source": [
    "# 顺序正常的情况\n",
    "def getASentence():\n",
    "        string = input(\"Input:\\n\");\n",
    "        return string;\n",
    "\n",
    "def pt():\n",
    "    s = getASentence();\n",
    "    print(s);\n",
    "\n",
    "pt();"
   ]
  },
  {
   "cell_type": "code",
   "execution_count": 37,
   "metadata": {},
   "outputs": [
    {
     "name": "stdout",
     "output_type": "stream",
     "text": [
      "Input:\n",
      "hello world!\n",
      "hello world!\n"
     ]
    }
   ],
   "source": [
    "# 顺序异常的情况\n",
    "pt();\n",
    "\n",
    "def pt():\n",
    "    s = getASentence();\n",
    "    print(s);\n",
    "\n",
    "def getASentence():\n",
    "        string = input(\"Input:\\n\");\n",
    "        return string;"
   ]
  },
  {
   "cell_type": "markdown",
   "metadata": {},
   "source": [
    "可以看出，只要程序中存在对函数的定义，不论函数定义与函数调用的相对位置如何，Python解释器都能正常读取和执行对应的程序,这一点上，Python和Matlab有很大的区别，请读者注意，也可以试着用Matlab定义一个函数然后尝试变换函数和函数定义的相对位置，看看会有什么样的不同。"
   ]
  },
  {
   "cell_type": "markdown",
   "metadata": {},
   "source": [
    "### 3.4 说明\n",
    "\n",
    "Python程序的执行是从第一个语句开始执行，从头到尾，而函数体内部的语句当且仅当函数被调用时才会运行一次，函数与函数之间是互相调用的关系。"
   ]
  },
  {
   "cell_type": "markdown",
   "metadata": {},
   "source": [
    "### 3.5 形式参数与实际参数\n",
    "\n",
    "|参数类型|定义|\n",
    "|:----:|:----------:|\n",
    "|形式参数|函数内部定义的参数|\n",
    "|实际参数|调用函数时传递的参数|\n",
    "\n",
    "下面是一个调用单个实参（实际参数）的例子："
   ]
  },
  {
   "cell_type": "code",
   "execution_count": 40,
   "metadata": {},
   "outputs": [
    {
     "name": "stdout",
     "output_type": "stream",
     "text": [
      "example\n",
      "example\n",
      "\n"
     ]
    }
   ],
   "source": [
    "def printx2(string):\n",
    "    print(string * 2);\n",
    "\n",
    "printx2(\"example\\n\");"
   ]
  },
  {
   "cell_type": "markdown",
   "metadata": {},
   "source": [
    "其中，我们定义了一个名为printx2的函数，它的功能是打印两次string参数传递过来的字面量，string就是被调用的单个实际参数。\n",
    "\n",
    "此外，我们还注意到，对一个字符串进行符号`*`的处理并不是指真正的对字符串做乘法，而是指输出两次指定的字符串。\n",
    "\n",
    "需要注意的是，不论是实参还是形参，在Python中都是局部的，仅对函数内部有效。"
   ]
  },
  {
   "cell_type": "code",
   "execution_count": null,
   "metadata": {},
   "outputs": [],
   "source": []
  }
 ],
 "metadata": {
  "kernelspec": {
   "display_name": "Python 3",
   "language": "python",
   "name": "python3"
  },
  "language_info": {
   "codemirror_mode": {
    "name": "ipython",
    "version": 3
   },
   "file_extension": ".py",
   "mimetype": "text/x-python",
   "name": "python",
   "nbconvert_exporter": "python",
   "pygments_lexer": "ipython3",
   "version": "3.7.7"
  }
 },
 "nbformat": 4,
 "nbformat_minor": 4
}
